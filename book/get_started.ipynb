{
 "cells": [
  {
   "cell_type": "markdown",
   "metadata": {},
   "source": [
    "# Первые шаги"
   ]
  },
  {
   "cell_type": "markdown",
   "metadata": {},
   "source": [
    "## О модуле\n",
    "\n",
    "Модуль [gmdh](https://test.pypi.org/project/gmdh/) реализует 4 популярные разновидности алгоритмов из семейства метода группового учёта алгоритмов (COMBI, MULTI, MIA, RIA), предназначенные для решения задач аппроксимации данных и предсказания временных рядов. Также в состав библиотеки входит вспомогательный функционал для базовой преобработки данных и сохранения уже обученных моделей.\n",
    "\n",
    "Ядро модуля реализовано на языке С++, благодаря чему обеспечивается высокая производительность вычислений.\n",
    "\n",
    "Поддерживаемые версии Python: 3.6 и выше.\n",
    "\n",
    "Репозиторий проекта: https://github.com/bauman-team/GMDH"
   ]
  },
  {
   "cell_type": "markdown",
   "metadata": {},
   "source": [
    "## Установка\n",
    "\n",
    "Для установки модуля `gmdh` достаточно выполнить команду:\n",
    "```\n",
    "pip install gmdh\n",
    "```\n",
    "\n",
    "После этого модуль может быть импортирован в скрипте командой:\n",
    "```python\n",
    "import gmdh\n",
    "```"
   ]
  },
  {
   "cell_type": "markdown",
   "metadata": {},
   "source": [
    "## Базовый пример"
   ]
  },
  {
   "cell_type": "markdown",
   "metadata": {},
   "source": [
    "Рассмотрим простейший пример использования базового комбинаторного алгоритма *COMBI* из модуля `gmdh`. Попробуем обучить модель для предсказания продолжения ряда чисел Фибоначчи. \n",
    "\n",
    "Для начала импортируем из модуля нужную модель и необходимые функции для подготовки данных."
   ]
  },
  {
   "cell_type": "code",
   "execution_count": 1,
   "metadata": {},
   "outputs": [],
   "source": [
    "import gmdh"
   ]
  }
 ],
 "metadata": {
  "kernelspec": {
   "display_name": "venv",
   "language": "python",
   "name": "python3"
  },
  "language_info": {
   "codemirror_mode": {
    "name": "ipython",
    "version": 3
   },
   "file_extension": ".py",
   "mimetype": "text/x-python",
   "name": "python",
   "nbconvert_exporter": "python",
   "pygments_lexer": "ipython3",
   "version": "3.8.6"
  },
  "vscode": {
   "interpreter": {
    "hash": "611f788186652bbeb1461b820e31276ef8540a338defe892c8d3480216321e35"
   }
  }
 },
 "nbformat": 4,
 "nbformat_minor": 2
}
