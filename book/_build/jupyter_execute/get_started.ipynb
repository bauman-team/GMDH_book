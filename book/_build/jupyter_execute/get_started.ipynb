{
 "cells": [
  {
   "cell_type": "markdown",
   "metadata": {},
   "source": [
    "# Первые шаги"
   ]
  },
  {
   "attachments": {},
   "cell_type": "markdown",
   "metadata": {},
   "source": [
    "## О модуле\n",
    "\n",
    "Модуль [gmdh](https://test.pypi.org/project/gmdh/) реализует 4 популярные разновидности алгоритмов из семейства метода группового учёта алгоритмов (COMBI, MULTI, MIA, RIA), предназначенные для решения задач аппроксимации данных и предсказания временных рядов. Также в состав библиотеки входит вспомогательный функционал для базовой преобработки данных и сохранения уже обученных моделей.\n",
    "\n",
    "Ядро модуля реализовано на языке С++, благодаря чему обеспечивается высокая производительность вычислений.\n",
    "\n",
    "```{note}\n",
    "Поддерживаемые версии Python: 3.6 и выше.\n",
    "```\n",
    "\n",
    "Репозиторий проекта: https://github.com/bauman-team/GMDH"
   ]
  },
  {
   "cell_type": "markdown",
   "metadata": {},
   "source": [
    "## Установка\n",
    "\n",
    "Для установки модуля `gmdh` достаточно выполнить команду:\n",
    "```\n",
    "pip install gmdh\n",
    "```\n",
    "\n",
    "После этого модуль может быть импортирован в скрипте командой:\n",
    "```python\n",
    "import gmdh\n",
    "```"
   ]
  },
  {
   "cell_type": "markdown",
   "metadata": {},
   "source": [
    "## Базовый пример"
   ]
  },
  {
   "attachments": {},
   "cell_type": "markdown",
   "metadata": {},
   "source": [
    "Рассмотрим простейший пример использования базового комбинаторного алгоритма *COMBI* из модуля `gmdh`. \n",
    "\n",
    "Для начала импортируем из модуля модель `Combi` и функцию `split_data` для разбиения исходных данных на тренировчную и тестовую выборки:"
   ]
  },
  {
   "cell_type": "code",
   "execution_count": 1,
   "metadata": {},
   "outputs": [],
   "source": [
    "from gmdh import Combi, split_data"
   ]
  },
  {
   "attachments": {},
   "cell_type": "markdown",
   "metadata": {},
   "source": [
    "Создадим простой датасет, в котором целевые значения матрицы `y` будут являться просто суммой соответствующей пары значений `x1` и `x2` матрицы `X`:"
   ]
  },
  {
   "cell_type": "code",
   "execution_count": 2,
   "metadata": {},
   "outputs": [],
   "source": [
    "X = [[1, 2], [3, 2], [7, 0], [5, 5], [1, 4], [2, 6]]\n",
    "y = [3, 5, 7, 10, 5, 8]"
   ]
  },
  {
   "attachments": {},
   "cell_type": "markdown",
   "metadata": {},
   "source": [
    "Разделим наши данные на тренировочную и тестовую выборки:"
   ]
  },
  {
   "cell_type": "code",
   "execution_count": 3,
   "metadata": {},
   "outputs": [
    {
     "name": "stdout",
     "output_type": "stream",
     "text": [
      "x_train:\n",
      " [[1. 2.]\n",
      " [3. 2.]\n",
      " [7. 0.]\n",
      " [5. 5.]\n",
      " [1. 4.]]\n",
      "x_test:\n",
      " [[2. 6.]]\n",
      "\n",
      "y_train:\n",
      " [ 3.  5.  7. 10.  5.]\n",
      "y_test:\n",
      " [8.]\n"
     ]
    }
   ],
   "source": [
    "x_train, x_test, y_train, y_test = split_data(X, y)\n",
    "\n",
    "# выведем полученные массивы\n",
    "print('x_train:\\n', x_train)\n",
    "print('x_test:\\n', x_test)\n",
    "print('\\ny_train:\\n', y_train)\n",
    "print('y_test:\\n', y_test)"
   ]
  },
  {
   "attachments": {},
   "cell_type": "markdown",
   "metadata": {},
   "source": [
    "Создадим модель `Combi`, обучим её на наших тренировочных данных методом `fit` и затем предскажем результат для тестовой выборки методом `predict`:"
   ]
  },
  {
   "cell_type": "code",
   "execution_count": 4,
   "metadata": {},
   "outputs": [
    {
     "name": "stdout",
     "output_type": "stream",
     "text": [
      "y_predicted:  [8.]\n",
      "y_test:  [8.]\n"
     ]
    }
   ],
   "source": [
    "model = Combi()\n",
    "model.fit(x_train, y_train)\n",
    "y_predicted = model.predict(x_test)\n",
    "\n",
    "# сравним прогноз с реальным значением\n",
    "print('y_predicted: ', y_predicted)\n",
    "print('y_test: ', y_test)"
   ]
  },
  {
   "attachments": {},
   "cell_type": "markdown",
   "metadata": {},
   "source": [
    "Предсказанный результат совпал с реальным значением! Выведем теперь полином, отображающий найденную моделью закономерность:"
   ]
  },
  {
   "cell_type": "code",
   "execution_count": 5,
   "metadata": {},
   "outputs": [
    {
     "data": {
      "text/plain": [
       "'y = x1 + x2'"
      ]
     },
     "execution_count": 5,
     "metadata": {},
     "output_type": "execute_result"
    }
   ],
   "source": [
    "model.get_best_polynomial()"
   ]
  },
  {
   "attachments": {},
   "cell_type": "markdown",
   "metadata": {},
   "source": [
    "## Что дальше?"
   ]
  },
  {
   "attachments": {},
   "cell_type": "markdown",
   "metadata": {},
   "source": [
    "Возможности модуля намного шире, чем было продемонстрировано в примере выше:\n",
    "\n",
    "- имеется поддержка работы с временными рядами;\n",
    "- метод `fit` у всех алгоритмов позволяет гибко настраивать значения множества гиперпараметров, с помощью которых можно адаптировать обучение под конкретную задачу и добиться повышения точности результатов по сравнению с базовым вариантом обучения вида `fit(x_train, y_train)`;\n",
    "- существуют специальные возможности для управления производительностью обучения моделей и визуализации процесса обучения;\n",
    "- обученные модели можно сохранять для последующего использования без необходимости повторного обучения."
   ]
  }
 ],
 "metadata": {
  "kernelspec": {
   "display_name": "venv",
   "language": "python",
   "name": "python3"
  },
  "language_info": {
   "codemirror_mode": {
    "name": "ipython",
    "version": 3
   },
   "file_extension": ".py",
   "mimetype": "text/x-python",
   "name": "python",
   "nbconvert_exporter": "python",
   "pygments_lexer": "ipython3",
   "version": "3.8.6"
  },
  "vscode": {
   "interpreter": {
    "hash": "df0e7e08355dbc895248650b7da72177c890623ffe6a63a4efb9ea215907bac7"
   }
  }
 },
 "nbformat": 4,
 "nbformat_minor": 2
}