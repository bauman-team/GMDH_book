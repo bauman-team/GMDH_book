{
 "cells": [
  {
   "attachments": {},
   "cell_type": "markdown",
   "metadata": {},
   "source": [
    "# Обзор модуля"
   ]
  },
  {
   "attachments": {},
   "cell_type": "markdown",
   "metadata": {},
   "source": [
    "Модуль `gmdh` содержит:\n",
    "* функции предобработки данных;\n",
    "* внешнии критерии;\n",
    "* модели алгоритмов МГУА."
   ]
  },
  {
   "attachments": {},
   "cell_type": "markdown",
   "metadata": {},
   "source": [
    "## Функции предобработки данных\n",
    "\n",
    "В модуле представлена реализация двух функций предобработки данных:\n",
    "* `time_series_transformation()` - чтобы сформировать из временного ряда массивы $X$ и $y$.\n",
    "\n",
    "    С помощью параметра `lags` можно задать длину подпоследовательностей из временного ряда, которые образуют строки матрицы $X$.\n",
    "    <br><br> \n",
    "* `split_data()` для разбиения данных на две подвыборки.\n",
    "\n",
    "    С помощью параметра `test_size`, который принимает значения от 0 до 1, можно указать долю данных второй (проверочной) подвыборки.\n"
   ]
  },
  {
   "attachments": {},
   "cell_type": "markdown",
   "metadata": {},
   "source": [
    "(create_train_data)=\n",
    "### Примеры"
   ]
  },
  {
   "cell_type": "code",
   "execution_count": 1,
   "metadata": {},
   "outputs": [
    {
     "name": "stdout",
     "output_type": "stream",
     "text": [
      "[[1. 2. 3. 4.]\n",
      " [2. 3. 4. 5.]\n",
      " [3. 4. 5. 6.]\n",
      " [4. 5. 6. 7.]\n",
      " [5. 6. 7. 8.]\n",
      " [6. 7. 8. 9.]] \n",
      "\n",
      "[ 5.  6.  7.  8.  9. 10.]\n"
     ]
    }
   ],
   "source": [
    "# импортируем функции предобработки данных\n",
    "from gmdh import time_series_transformation, split_data\n",
    "\n",
    "# создаём временной ряд\n",
    "data = [1, 2, 3, 4, 5, 6, 7, 8, 9, 10]  \n",
    "\n",
    "# разбиваем временной ряд на последовательности из 4 элементов\n",
    "# и сохраняем данные в матрицы X и y\n",
    "X, y = time_series_transformation(data, lags=4)\n",
    "\n",
    "## выводим матрицы\n",
    "print(X,'\\n')\n",
    "print(y)"
   ]
  },
  {
   "cell_type": "code",
   "execution_count": 2,
   "metadata": {},
   "outputs": [
    {
     "name": "stdout",
     "output_type": "stream",
     "text": [
      "[[1. 2. 3. 4.]\n",
      " [2. 3. 4. 5.]\n",
      " [3. 4. 5. 6.]\n",
      " [4. 5. 6. 7.]] \n",
      "\n",
      "[[5. 6. 7. 8.]\n",
      " [6. 7. 8. 9.]] \n",
      "\n",
      "[5. 6. 7. 8.] \n",
      "\n",
      "[ 9. 10.]\n"
     ]
    }
   ],
   "source": [
    "# разбиваем данные на обучающую (67%) и проверочную (33%) выборки\n",
    "x_train, x_test, y_train, y_test = split_data(X, y, test_size=0.33)\n",
    "\n",
    "# выводим матрицы\n",
    "print(x_train,'\\n')\n",
    "print(x_test,'\\n')\n",
    "print(y_train,'\\n')\n",
    "print(y_test)"
   ]
  },
  {
   "attachments": {},
   "cell_type": "markdown",
   "metadata": {},
   "source": [
    "## Внешние критерии"
   ]
  },
  {
   "attachments": {},
   "cell_type": "markdown",
   "metadata": {},
   "source": [
    "В модуле представлено три класса типов внешних критериев:\n",
    "* `Criterion` - индивидуальный критерий;\n",
    "* `ParallelCriterion` - параллельный критерий;\n",
    "* `SequentialCriterion` - последовательный критерий.\n",
    "\n",
    "Все виды индивидуальных критериев доступны через объект `CriterionType`:\n",
    "* `CriterionType.REGULARITY`;\n",
    "* `CriterionType.SYM_REGULARITY`;\n",
    "* `CriterionType.STABILITY`;\n",
    "* `CriterionType.SYM_STABILITY`;\n",
    "* `CriterionType.UNBIASED_COEFFS`;\n",
    "* `CriterionType.UNBIASED_OUTPUTS`;\n",
    "* `CriterionType.SYM_UNBIASED_OUTPUTS`;\n",
    "* `CriterionType.ABSOLUTE_NOISE_IMMUNITY`;\n",
    "* `CriterionType.SYM_ABSOLUTE_NOISE_IMMUNITY`.\n",
    "\n",
    "При создании любого из критериев можно выбрать алгоритм, который будет использоваться при решении систем линейных уравнений для вычисления оптимальных весовых коэффицентов моделей. Для этого можно воспользоваться объектом `Solver`. Доступен выбор из трёх видов алгоритмов: \n",
    "* `Solver.FAST` - самый быстрый из трёх алгоритмов;\n",
    "* `Solver.ACCURATE` - самый точный из трёх алгоритмов;\n",
    "* `Solver.BALANCED` - алгоритм, сбалансированный как по времени, так и по точности.\n",
    "\n",
    "По умолчанию всегда используется сбалансированный алгоритм. При этом разница в рассчитаных значениях и скорости работы алгоритмов на небольших и средних по размеру выборках практически отсутствует."
   ]
  },
  {
   "attachments": {},
   "cell_type": "markdown",
   "metadata": {},
   "source": [
    "### Пример"
   ]
  },
  {
   "attachments": {},
   "cell_type": "markdown",
   "metadata": {},
   "source": [
    "***\n",
    "Для начала импортируем класс с перечислением индивидуальных критерии:"
   ]
  },
  {
   "cell_type": "code",
   "execution_count": 3,
   "metadata": {},
   "outputs": [],
   "source": [
    "from gmdh import CriterionType"
   ]
  },
  {
   "attachments": {},
   "cell_type": "markdown",
   "metadata": {},
   "source": [
    "***\n",
    "Для создания индивидуального критерия регулярности нужно задать значение `CriterionType.REGULARITY` параметру `сriterion_type` у класса `Criterion`:"
   ]
  },
  {
   "cell_type": "code",
   "execution_count": 4,
   "metadata": {},
   "outputs": [],
   "source": [
    "from gmdh import Criterion\n",
    "\n",
    "reg_criterion = Criterion(criterion_type=CriterionType.REGULARITY)"
   ]
  },
  {
   "attachments": {},
   "cell_type": "markdown",
   "metadata": {},
   "source": [
    "***\n",
    "Для создания параллельного критерия, состоящего из критериев регулярности и стабильности нужно задать значение `CriterionType.REGULARITY`  паарметру `criterion_type` и значение `CriterionType.STABILITY` параметру `second_criterion_type` у класса `ParallelCriterion`. А чтобы сделать вклад критерия регулярности в итоговый результат в 3 раза больше критерия стабильности, присвоим параметру `alpha` значение 0.75 (то есть вклад первого критерия будет с коэффициентом 0.75, а вклад второго - 0.25):"
   ]
  },
  {
   "cell_type": "code",
   "execution_count": 5,
   "metadata": {},
   "outputs": [],
   "source": [
    "from gmdh import ParallelCriterion\n",
    "\n",
    "par_criterion = ParallelCriterion(criterion_type=CriterionType.REGULARITY, \n",
    "                                  second_criterion_type=CriterionType.STABILITY,\n",
    "                                  alpha=0.75)"
   ]
  },
  {
   "attachments": {},
   "cell_type": "markdown",
   "metadata": {},
   "source": [
    "***\n",
    "Для создания последовательного критерия, состоящего из симметричных критериев регулярности и стабильности нужно задать значение `CriterionType.SYM_REGULARITY`  паарметру `criterion_type` и значение `CriterionType.SYM_STABILITY` параметру `second_criterion_type` у класса `SequentialCriterion`. А чтобы использовать при обучении самый быстрый алгоритм расчёта параметров моделей, присвоим параметру `solver` значение `Solver.FAST`:"
   ]
  },
  {
   "cell_type": "code",
   "execution_count": 6,
   "metadata": {},
   "outputs": [],
   "source": [
    "from gmdh import SequentialCriterion, Solver\n",
    "\n",
    "seq_criterion = SequentialCriterion(criterion_type=CriterionType.SYM_REGULARITY, \n",
    "                                    second_criterion_type=CriterionType.SYM_STABILITY, \n",
    "                                    solver=Solver.FAST)"
   ]
  },
  {
   "attachments": {},
   "cell_type": "markdown",
   "metadata": {},
   "source": [
    "***\n",
    "## Модели алгоритмов МГУА"
   ]
  },
  {
   "attachments": {},
   "cell_type": "markdown",
   "metadata": {},
   "source": [
    "В модуле `gmdh` представлено 4 класса алгоритмов МГУА:\n",
    "* `Combi` - комбинаторный алгоритм МГУА;\n",
    "* `Multi` - комбинаторно-селекционный алгоритм МГУА;\n",
    "* `Mia` - многорядный итеративный алгоритм МГУА;\n",
    "* `Ria` - релаксационный итеративный алгорим МГУА.\n",
    "\n",
    "Для упрощения работы с этими классами, все они имеют единый список методов:\n",
    "* `fit()` - для обучения алгоритма;\n",
    "* `get_best_polynomial()` - для отображения полинома оптимальной модели, найденной алгоритмом и используемой при прогнозах;\n",
    "* `predict()` - для вычисления прогнозов после обучения алгоритма;\n",
    "* `save()` - для сохранения обученной модели в JSON-файл;\n",
    "* `load()` - для загрузки предобученной модели из JSON-файла."
   ]
  },
  {
   "attachments": {},
   "cell_type": "markdown",
   "metadata": {},
   "source": [
    "Рассмотрим использование данных методов на примере обучения модели `Multi`. \n",
    "\n",
    "Для начала импортируем соответствующий класс и создадим модель:"
   ]
  },
  {
   "cell_type": "code",
   "execution_count": 7,
   "metadata": {},
   "outputs": [],
   "source": [
    "from gmdh import Multi\n",
    "\n",
    "model = Multi()"
   ]
  },
  {
   "attachments": {},
   "cell_type": "markdown",
   "metadata": {},
   "source": [
    "### Метод `fit`\n",
    "\n",
    "Метод предназначен для обучения алгоритма и позволяет задавать значения всем необходимым гиперпараметрам.\n",
    "\n",
    "Минимально необходимый список параметров, которые нужно передать методу: обучающая выборка в виде матрицы $X$ (данные, по которым строим прогнозы) и вектора $y$ (значения целевой величины, которую предсказываем).\n",
    "\n",
    "При желании можно также задать значения {ref}`гиперпараметров<hyperparameters>`. Более того, метод `fit` у всех алгоритмов имеет несколько дополнительных параметров, которые не влияют на *результат* обучения, но могут сделать процесс обучения более быстрым и наглядным:\n",
    "* `n_jobs` - число потоков, в которых будут проводиться все вычисления в процессе обучения.\n",
    "\n",
    "    Допускается задавать абсолютное число потоков, либо присваивать значение $-1$ для использования максимально допустимого числа потоков.\n",
    "    <br>\n",
    "* `verbose` - отвечает за вывод интерактивной информации о процессе обучения.\n",
    "\n",
    "    При значении 1 выводится индикатор выполнения обучения с указанием числа рассматриваемых комбинаций на каждом ряду, а также значением качества ряда. При значении 0 вывод информации скрывается.\n",
    "\n",
    "Чтобы оперативно узнать список доступных параметров используемого алгоритма, их описания, а также значений по умолчанию, можно выполнить команду:"
   ]
  },
  {
   "cell_type": "code",
   "execution_count": 8,
   "metadata": {},
   "outputs": [
    {
     "name": "stdout",
     "output_type": "stream",
     "text": [
      "Help on method fit in module gmdh.gmdh:\n",
      "\n",
      "fit(X, y, criterion=<gmdh.gmdh.Criterion object at 0x0000024BFB6FFEE0>, k_best=1, test_size=0.5, p_average=1, n_jobs=1, verbose=0, limit=0) method of gmdh.gmdh.Multi instance\n",
      "    Fitting the Multi model to find the best solution.\n",
      "    \n",
      "    Using the input training `X` and `y` data the Multi model looks for the optimal solution\n",
      "    from linear functions and stops if the errors start to grow.\n",
      "    The training process can be configured for specific purposes\n",
      "    using hyperparameters.\n",
      "    \n",
      "    Parameters\n",
      "    ----------\n",
      "    X : array_like\n",
      "        2D array containing numeric training data.\n",
      "        Rows are data samples, columns are features or lags.\n",
      "    y : array_like\n",
      "        1D array containg target numeric values for the training data.\n",
      "    criterion : gmdh.Criterion, default=gmdh.Criterion(gmdh.CriterionType.REGULARITY)\n",
      "        External criterion is a function or specific combination of functions\n",
      "        for solutions evaluation and choosing the best one.\n",
      "    k_best : int, default=1\n",
      "        The number of best combinations at each level that will be combined\n",
      "        with other unused features (or lags) at the next level.\n",
      "    test_size : float, default=0.5\n",
      "        Proportion of the input data to include in the internal test set\n",
      "        that will be used only to calculate external criterion value.\n",
      "        Value must be in the (0, 1) range.\n",
      "    p_average : int, default=1\n",
      "        Specifying the number of the best combinations for calculation\n",
      "        the mean error value at each level.\n",
      "    n_jobs : int, default=1\n",
      "        The number of threads that will be used for calculations.\n",
      "        If n_jobs=-1 the maximum possible threads will be used.\n",
      "    verbose : {0, 1}, default=0\n",
      "        If verbose=1 then the progress bars and additional information\n",
      "        will be displayed during the model fitting.\n",
      "        If verbose=0 there will be no information to display.\n",
      "    limit : float, default=0\n",
      "        If the error value at the end of the level decreases by less then limit value\n",
      "        compared to the previous level the training process will stop.\n",
      "    \n",
      "    Returns\n",
      "    -------\n",
      "    self : Multi\n",
      "        Fitted model.\n",
      "    \n",
      "    See Also\n",
      "    --------\n",
      "    predict : Using fitted model to make predictions.\n",
      "\n"
     ]
    }
   ],
   "source": [
    "help(model.fit)"
   ]
  },
  {
   "attachments": {},
   "cell_type": "markdown",
   "metadata": {},
   "source": [
    ":::{Caution}\n",
    "Обратите внимание, что гиперпараметр `test_size`, используемый в методе `fit` отвечает за способ разделения *обучающей* выборки $X$, которую вы подаёте в метод, на тренировочную и тестовую части. Само разделение данных произойдёт уже внутри метода `fit` без необходимости вручную вызывать функцию `split_data()`.\n",
    "\n",
    "При этом разделение исходной выборки на *обучающую* и *проверочную* части на этапе предобработки данных необходимо всегда выполнять самостоятельно посредством вызова функции `split_data()`\n",
    "\n",
    "Подробнее о выборках написано в разделе {ref}`Разбиение данных на три подвыборки<subsamples>`. \n",
    ":::"
   ]
  },
  {
   "attachments": {},
   "cell_type": "markdown",
   "metadata": {},
   "source": [
    "<br>\n",
    "\n",
    "Итак, обучим модель на обучающей выборке, полученной с помощью функции `split_data` в {ref}`примере<create_train_data>` предобработки данных, и зададим значения нескольких гиперпараметров:"
   ]
  },
  {
   "cell_type": "code",
   "execution_count": 9,
   "metadata": {},
   "outputs": [
    {
     "data": {
      "text/plain": [
       "<gmdh.gmdh.Multi at 0x24bffb682e0>"
      ]
     },
     "execution_count": 9,
     "metadata": {},
     "output_type": "execute_result"
    }
   ],
   "source": [
    "model.fit(x_train, y_train, k_best=2, test_size=0.3)"
   ]
  },
  {
   "attachments": {},
   "cell_type": "markdown",
   "metadata": {},
   "source": [
    "После того, как метод `fit` закончит свою работу, объект `model` будет содержать уже готовую обученную модель."
   ]
  },
  {
   "attachments": {},
   "cell_type": "markdown",
   "metadata": {},
   "source": [
    "### Метод `get_best_polynomial()`"
   ]
  },
  {
   "attachments": {},
   "cell_type": "markdown",
   "metadata": {},
   "source": [
    "Метод позволяет отобразить найденную алгоритмом во время обучения зависимость целевой величины $y$ от переменных $X$.\n",
    "\n",
    "При использовании алгоритмов `Combi` или `Multi` вывод будет представлять собой один полином, характеризующий оптимальную модель, по которой в дальнейшем будут совершаться прогнозы.\n",
    "\n",
    "Выведем полином нашей обученной модели:"
   ]
  },
  {
   "cell_type": "code",
   "execution_count": 10,
   "metadata": {},
   "outputs": [
    {
     "data": {
      "text/plain": [
       "'y = x1 + 4'"
      ]
     },
     "execution_count": 10,
     "metadata": {},
     "output_type": "execute_result"
    }
   ],
   "source": [
    "model.get_best_polynomial()"
   ]
  },
  {
   "attachments": {},
   "cell_type": "markdown",
   "metadata": {},
   "source": [
    "В случае с алгоритмами `Mia` и `Ria` вывод будет выглядить значительно сложнее. Это объясняется тем, что структура генерируемых этими алгоритмами моделей имеет рекурсивный характер, то есть в лучшем полиноме в качестве переменных будут выступать другие полиномы, каждый из которых может тоже состоять из полиномов и так далее. Поэтому использовать вывод лучшего полинома при использовании данных алгоритмов целесообразно при небольшом числе рядов, когда уровней вложенности полиномов немного. \n",
    "\n",
    "Обучим для примера на тех же данных модель `Mia` и выведем лучший полином:"
   ]
  },
  {
   "cell_type": "code",
   "execution_count": 11,
   "metadata": {},
   "outputs": [
    {
     "name": "stdout",
     "output_type": "stream",
     "text": [
      "f1_1 = - 0.4833*x1*x4 + 0.4333*x4^2\n",
      "f1_2 = - 1.5294*x2^2 + 1.2353*x3^2\n",
      "\n",
      "y = f1_1 + 1.82381e-16*f1_1^2\n"
     ]
    }
   ],
   "source": [
    "from gmdh import Mia\n",
    "\n",
    "mia_model = Mia()\n",
    "mia_model.fit(x_train, y_train, k_best=5, p_average=3)\n",
    "print(mia_model.get_best_polynomial())"
   ]
  },
  {
   "attachments": {},
   "cell_type": "markdown",
   "metadata": {},
   "source": [
    "### Метод `predict()`"
   ]
  },
  {
   "attachments": {},
   "cell_type": "markdown",
   "metadata": {},
   "source": [
    "Метод используется для совершения прогнозов на уже обученной модели. Для этого используются новые данные, которые модель не видела во время обучения. В нашем случае можно воспользоваться проверочной выборкой, полученной в {ref}`примере<create_train_data>` предобработки данных.\n",
    "\n",
    "Метод может работать в двух режимах:\n",
    "* одновременный прогноз для всех строк переданной матрицы $X$.\n",
    "\n",
    "    К этому режиму относятся также и краткосрочные прогнозы по временному ряду на 1 шаг вперёд. В таком случае каждая строка матрицы $X$ представляет собой подпоследовательность временного ряда и метод `predict` вернёт предсказания одного следующего числа для каждой подпоследовательности.\n",
    "    <br>\n",
    "* долгосрочный прогноз по одной подпоследовательности временного ряда.\n",
    "\n",
    "    В этом случае количество шагов, на которые требуется последовательно предсказать значения, можно задать параметром `lags`.\n",
    "\n",
    "Пример использования первого режима:"
   ]
  },
  {
   "cell_type": "code",
   "execution_count": 12,
   "metadata": {},
   "outputs": [
    {
     "name": "stdout",
     "output_type": "stream",
     "text": [
      "x_test:\n",
      " [[5. 6. 7. 8.]\n",
      " [6. 7. 8. 9.]] \n",
      "\n",
      "y_test:  [ 9. 10.]\n",
      "y_pred:  [ 9. 10.]\n"
     ]
    }
   ],
   "source": [
    "# выведем проверочную выборку\n",
    "print('x_test:\\n', x_test, '\\n')\n",
    "\n",
    "# строим прогноз\n",
    "y_pred = model.predict(x_test)\n",
    "\n",
    "# сравниваем реальные значение с прогнозом\n",
    "print('y_test: ', y_test)\n",
    "print('y_pred: ', y_pred)"
   ]
  },
  {
   "attachments": {},
   "cell_type": "markdown",
   "metadata": {},
   "source": [
    "Для примера использоваиня второго режима подадим в метод только первую строку матрицы `x_test` и попросим предсказать сразу 5 следующих значений временного ряда:"
   ]
  },
  {
   "cell_type": "code",
   "execution_count": 13,
   "metadata": {},
   "outputs": [
    {
     "name": "stdout",
     "output_type": "stream",
     "text": [
      "x_test[0]: [5. 6. 7. 8.]\n",
      "y_pred: [ 9. 10. 11. 12. 13.]\n"
     ]
    }
   ],
   "source": [
    "# выводим начало подпоследовательности временного ряда\n",
    "print('x_test[0]:', x_test[0])\n",
    "\n",
    "# строим прогноз 5 значений\n",
    "y_pred = model.predict(x_test[0], lags=5)\n",
    "\n",
    "# выводим прогноз\n",
    "print('y_pred:', y_pred)"
   ]
  },
  {
   "attachments": {},
   "cell_type": "markdown",
   "metadata": {},
   "source": [
    "### Метод `save()`"
   ]
  },
  {
   "attachments": {},
   "cell_type": "markdown",
   "metadata": {},
   "source": [
    "Метод позволяет сохранить обученную модель в JSON-файл.\n",
    "\n",
    "Для этого достаточно указать лишь название файла:"
   ]
  },
  {
   "cell_type": "code",
   "execution_count": 14,
   "metadata": {},
   "outputs": [
    {
     "data": {
      "text/plain": [
       "<gmdh.gmdh.Multi at 0x24bffb682e0>"
      ]
     },
     "execution_count": 14,
     "metadata": {},
     "output_type": "execute_result"
    }
   ],
   "source": [
    "model.save('multi_model.json')"
   ]
  },
  {
   "attachments": {},
   "cell_type": "markdown",
   "metadata": {},
   "source": [
    "### Метод `load()`"
   ]
  },
  {
   "attachments": {},
   "cell_type": "markdown",
   "metadata": {},
   "source": [
    "Метод позволяет использовать готовые предобученные модели, которые ранее были сохранены в JSON-файл. Так как при больших выборках процесс обучения может занимать много времени, то возможность обучить алгоритм всего один раз, а затем подгружать модель в любой скрипт и сразу строить прогнозы позволяет экономить время.\n",
    "\n",
    "Для загрузки обученной модели необходимо создать объект того же алгоритма МГУА, что и модель в файле и затем указать путь к файлу:"
   ]
  },
  {
   "cell_type": "code",
   "execution_count": 15,
   "metadata": {},
   "outputs": [
    {
     "data": {
      "text/plain": [
       "'y = x1 + 4'"
      ]
     },
     "execution_count": 15,
     "metadata": {},
     "output_type": "execute_result"
    }
   ],
   "source": [
    "# создаём объект алгоритма Multi\n",
    "pretrained_model = Multi()\n",
    "\n",
    "# загружаем предобученную модель\n",
    "pretrained_model.load('multi_model.json')\n",
    "\n",
    "# выводим полином, чтобы убедиться, что модель загрузилась\n",
    "pretrained_model.get_best_polynomial()"
   ]
  }
 ],
 "metadata": {
  "kernelspec": {
   "display_name": "venv",
   "language": "python",
   "name": "python3"
  },
  "language_info": {
   "codemirror_mode": {
    "name": "ipython",
    "version": 3
   },
   "file_extension": ".py",
   "mimetype": "text/x-python",
   "name": "python",
   "nbconvert_exporter": "python",
   "pygments_lexer": "ipython3",
   "version": "3.8.6"
  },
  "vscode": {
   "interpreter": {
    "hash": "df0e7e08355dbc895248650b7da72177c890623ffe6a63a4efb9ea215907bac7"
   }
  }
 },
 "nbformat": 4,
 "nbformat_minor": 2
}